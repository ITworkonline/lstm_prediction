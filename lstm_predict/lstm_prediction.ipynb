{
 "cells": [
  {
   "cell_type": "code",
   "execution_count": 2,
   "metadata": {},
   "outputs": [
    {
     "name": "stderr",
     "output_type": "stream",
     "text": [
      "Using TensorFlow backend.\n",
      "/Users/skidnp/anaconda3/lib/python3.6/site-packages/tensorflow/python/framework/dtypes.py:526: FutureWarning: Passing (type, 1) or '1type' as a synonym of type is deprecated; in a future version of numpy, it will be understood as (type, (1,)) / '(1,)type'.\n",
      "  _np_qint8 = np.dtype([(\"qint8\", np.int8, 1)])\n",
      "/Users/skidnp/anaconda3/lib/python3.6/site-packages/tensorflow/python/framework/dtypes.py:527: FutureWarning: Passing (type, 1) or '1type' as a synonym of type is deprecated; in a future version of numpy, it will be understood as (type, (1,)) / '(1,)type'.\n",
      "  _np_quint8 = np.dtype([(\"quint8\", np.uint8, 1)])\n",
      "/Users/skidnp/anaconda3/lib/python3.6/site-packages/tensorflow/python/framework/dtypes.py:528: FutureWarning: Passing (type, 1) or '1type' as a synonym of type is deprecated; in a future version of numpy, it will be understood as (type, (1,)) / '(1,)type'.\n",
      "  _np_qint16 = np.dtype([(\"qint16\", np.int16, 1)])\n",
      "/Users/skidnp/anaconda3/lib/python3.6/site-packages/tensorflow/python/framework/dtypes.py:529: FutureWarning: Passing (type, 1) or '1type' as a synonym of type is deprecated; in a future version of numpy, it will be understood as (type, (1,)) / '(1,)type'.\n",
      "  _np_quint16 = np.dtype([(\"quint16\", np.uint16, 1)])\n",
      "/Users/skidnp/anaconda3/lib/python3.6/site-packages/tensorflow/python/framework/dtypes.py:530: FutureWarning: Passing (type, 1) or '1type' as a synonym of type is deprecated; in a future version of numpy, it will be understood as (type, (1,)) / '(1,)type'.\n",
      "  _np_qint32 = np.dtype([(\"qint32\", np.int32, 1)])\n",
      "/Users/skidnp/anaconda3/lib/python3.6/site-packages/tensorflow/python/framework/dtypes.py:535: FutureWarning: Passing (type, 1) or '1type' as a synonym of type is deprecated; in a future version of numpy, it will be understood as (type, (1,)) / '(1,)type'.\n",
      "  np_resource = np.dtype([(\"resource\", np.ubyte, 1)])\n"
     ]
    }
   ],
   "source": [
    "import numpy\n",
    "import matplotlib.pyplot as plt #visualized data\n",
    "from pandas import read_csv\n",
    "import math\n",
    "from keras.models import Sequential\n",
    "from keras.layers import Dense\n",
    "from keras.layers import LSTM\n",
    "from sklearn.preprocessing import MinMaxScaler\n",
    "from sklearn.metrics import mean_squared_error"
   ]
  },
  {
   "cell_type": "code",
   "execution_count": 3,
   "metadata": {},
   "outputs": [],
   "source": [
    "dataframe = read_csv('train_clean.csv', usecols=[1])\n",
    "dataset = dataframe.values\n",
    "dataset = dataset.astype(\"float32\")"
   ]
  },
  {
   "cell_type": "code",
   "execution_count": 4,
   "metadata": {},
   "outputs": [
    {
     "data": {
      "image/png": "[encoded data removed]",
      "text/plain": [
       "<Figure size 432x288 with 1 Axes>"
      ]
     },
     "metadata": {
      "needs_background": "light"
     },
     "output_type": "display_data"
    }
   ],
   "source": [
    "plt.plot(dataset,color = 'blue')\n",
    "plt.show()\n"
   ]
  },
  {
   "cell_type": "code",
   "execution_count": 5,
   "metadata": {},
   "outputs": [],
   "source": [
    "def create_dataset(dataset, look_back=1):\n",
    "    dataX, dataY = [],[]\n",
    "    for i in range(len(dataset)-look_back-1):\n",
    "        a = dataset[i:(i+look_back),0]\n",
    "        dataX.append(a)\n",
    "        dataY.append(dataset[i+look_back,0])\n",
    "    return numpy.array(dataX),numpy.array(dataY)\n"
   ]
  },
  {
   "cell_type": "code",
   "execution_count": 6,
   "metadata": {},
   "outputs": [],
   "source": [
    "#normalization\n",
    "scaler = MinMaxScaler(feature_range=(0,1))\n",
    "dataset = scaler.fit_transform(dataset)\n"
   ]
  },
  {
   "cell_type": "code",
   "execution_count": 7,
   "metadata": {},
   "outputs": [],
   "source": [
    "#spliting dataset, 67% train, 23% test\n",
    "train_size = int(len(dataset)*0.67)\n",
    "test_size = len(dataset)-train_size\n",
    "train, test = dataset[0:train_size,:],dataset[train_size:len(dataset),:]\n"
   ]
  },
  {
   "cell_type": "code",
   "execution_count": 8,
   "metadata": {},
   "outputs": [
    {
     "name": "stdout",
     "output_type": "stream",
     "text": [
      "[0.00000000e+00 7.19214881e-07 7.19214881e-07 2.87685953e-06\n",
      " 2.87685953e-06 2.87685953e-06 2.87685953e-06 2.87685953e-06\n",
      " 4.31528952e-06 5.03450428e-06 5.03450428e-06 7.19214859e-06\n",
      " 7.19214859e-06 7.19214859e-06 7.19214859e-06 7.19214859e-06\n",
      " 7.19214859e-06 7.19214859e-06 7.19214859e-06 7.91136426e-06\n",
      " 7.91136426e-06 8.63057903e-06 8.63057903e-06 8.63057903e-06\n",
      " 8.63057903e-06 8.63057903e-06 8.63057903e-06 8.63057903e-06\n",
      " 8.63057903e-06 1.00690086e-05 1.00690086e-05 1.00690086e-05\n",
      " 1.00690086e-05 1.00690086e-05 1.00690086e-05 1.07882233e-05\n",
      " 1.07882233e-05 1.65419424e-05 2.08572310e-05 3.73991752e-05\n",
      " 5.17834742e-05 7.40791365e-05 1.22985744e-04 1.55350412e-04\n",
      " 2.40936992e-04 3.22927488e-04 3.68957233e-04 5.08484896e-04\n",
      " 7.94013205e-04 1.11909839e-03 1.54343515e-03 2.05407781e-03\n",
      " 2.09794985e-03 3.09693930e-03 4.38361429e-03 6.38087420e-03\n",
      " 1.01358956e-02 1.39542073e-02 1.85010843e-02 2.41893549e-02\n",
      " 3.14023606e-02 3.86470109e-02 4.73077968e-02 6.02953807e-02\n",
      " 7.31125027e-02 8.73587132e-02 1.01343125e-01 1.16390541e-01\n",
      " 1.35335386e-01 1.53366104e-01 1.75215855e-01 1.98047325e-01\n",
      " 2.21984953e-01]\n"
     ]
    }
   ],
   "source": [
    "look_back = 1 #reshape\n",
    "trainX, trainY = create_dataset(train, look_back)\n",
    "testX, testY = create_dataset(test, look_back)\n",
    "print(trainY)\n",
    "\n",
    "#reshape to be [samples, time steps, features]\n",
    "trainX = numpy.reshape(trainX,(trainX.shape[0],1,trainX.shape[1]))\n",
    "testX = numpy.reshape(testX,(testX.shape[0],1,testX.shape[1]))\n"
   ]
  },
  {
   "cell_type": "code",
   "execution_count": 9,
   "metadata": {},
   "outputs": [
    {
     "name": "stdout",
     "output_type": "stream",
     "text": [
      "WARNING:tensorflow:From /Users/skidnp/anaconda3/lib/python3.6/site-packages/tensorflow/python/framework/op_def_library.py:263: colocate_with (from tensorflow.python.framework.ops) is deprecated and will be removed in a future version.\n",
      "Instructions for updating:\n",
      "Colocations handled automatically by placer.\n",
      "WARNING:tensorflow:From /Users/skidnp/anaconda3/lib/python3.6/site-packages/tensorflow/python/ops/math_ops.py:3066: to_int32 (from tensorflow.python.ops.math_ops) is deprecated and will be removed in a future version.\n",
      "Instructions for updating:\n",
      "Use tf.cast instead.\n",
      "Epoch 1/100\n",
      " - 1s - loss: 0.0027\n",
      "Epoch 2/100\n",
      " - 0s - loss: 0.0025\n",
      "Epoch 3/100\n",
      " - 0s - loss: 0.0025\n",
      "Epoch 4/100\n",
      " - 0s - loss: 0.0024\n",
      "Epoch 5/100\n",
      " - 0s - loss: 0.0024\n",
      "Epoch 6/100\n",
      " - 0s - loss: 0.0023\n",
      "Epoch 7/100\n",
      " - 0s - loss: 0.0023\n",
      "Epoch 8/100\n",
      " - 0s - loss: 0.0022\n",
      "Epoch 9/100\n",
      " - 0s - loss: 0.0021\n",
      "Epoch 10/100\n",
      " - 0s - loss: 0.0021\n",
      "Epoch 11/100\n",
      " - 0s - loss: 0.0020\n",
      "Epoch 12/100\n",
      " - 0s - loss: 0.0019\n",
      "Epoch 13/100\n",
      " - 0s - loss: 0.0019\n",
      "Epoch 14/100\n",
      " - 0s - loss: 0.0018\n",
      "Epoch 15/100\n",
      " - 0s - loss: 0.0017\n",
      "Epoch 16/100\n",
      " - 0s - loss: 0.0016\n",
      "Epoch 17/100\n",
      " - 0s - loss: 0.0015\n",
      "Epoch 18/100\n",
      " - 0s - loss: 0.0014\n",
      "Epoch 19/100\n",
      " - 0s - loss: 0.0014\n",
      "Epoch 20/100\n",
      " - 0s - loss: 0.0011\n",
      "Epoch 21/100\n",
      " - 0s - loss: 0.0010\n",
      "Epoch 22/100\n",
      " - 0s - loss: 8.7638e-04\n",
      "Epoch 23/100\n",
      " - 0s - loss: 7.6316e-04\n",
      "Epoch 24/100\n",
      " - 0s - loss: 6.1934e-04\n",
      "Epoch 25/100\n",
      " - 0s - loss: 5.0446e-04\n",
      "Epoch 26/100\n",
      " - 0s - loss: 3.8549e-04\n",
      "Epoch 27/100\n",
      " - 0s - loss: 3.0869e-04\n",
      "Epoch 28/100\n",
      " - 0s - loss: 2.4076e-04\n",
      "Epoch 29/100\n",
      " - 0s - loss: 1.5739e-04\n",
      "Epoch 30/100\n",
      " - 0s - loss: 1.0990e-04\n",
      "Epoch 31/100\n",
      " - 0s - loss: 6.8271e-05\n",
      "Epoch 32/100\n",
      " - 0s - loss: 4.2905e-05\n",
      "Epoch 33/100\n",
      " - 0s - loss: 2.6972e-05\n",
      "Epoch 34/100\n",
      " - 0s - loss: 1.5523e-05\n",
      "Epoch 35/100\n",
      " - 0s - loss: 1.0826e-05\n",
      "Epoch 36/100\n",
      " - 0s - loss: 7.5005e-06\n",
      "Epoch 37/100\n",
      " - 0s - loss: 6.2199e-06\n",
      "Epoch 38/100\n",
      " - 0s - loss: 6.1055e-06\n",
      "Epoch 39/100\n",
      " - 0s - loss: 5.3045e-06\n",
      "Epoch 40/100\n",
      " - 0s - loss: 4.9832e-06\n",
      "Epoch 41/100\n",
      " - 0s - loss: 5.1049e-06\n",
      "Epoch 42/100\n",
      " - 0s - loss: 5.1636e-06\n",
      "Epoch 43/100\n",
      " - 0s - loss: 5.1432e-06\n",
      "Epoch 44/100\n",
      " - 0s - loss: 5.5569e-06\n",
      "Epoch 45/100\n",
      " - 0s - loss: 4.8702e-06\n",
      "Epoch 46/100\n",
      " - 0s - loss: 5.5408e-06\n",
      "Epoch 47/100\n",
      " - 0s - loss: 4.9071e-06\n",
      "Epoch 48/100\n",
      " - 0s - loss: 5.0645e-06\n",
      "Epoch 49/100\n",
      " - 0s - loss: 4.9236e-06\n",
      "Epoch 50/100\n",
      " - 0s - loss: 5.1838e-06\n",
      "Epoch 51/100\n",
      " - 0s - loss: 4.7168e-06\n",
      "Epoch 52/100\n",
      " - 0s - loss: 5.5447e-06\n",
      "Epoch 53/100\n",
      " - 0s - loss: 5.2220e-06\n",
      "Epoch 54/100\n",
      " - 0s - loss: 5.6386e-06\n",
      "Epoch 55/100\n",
      " - 0s - loss: 5.1237e-06\n",
      "Epoch 56/100\n",
      " - 0s - loss: 5.8030e-06\n",
      "Epoch 57/100\n",
      " - 0s - loss: 5.1598e-06\n",
      "Epoch 58/100\n",
      " - 0s - loss: 5.4542e-06\n",
      "Epoch 59/100\n",
      " - 0s - loss: 5.7388e-06\n",
      "Epoch 60/100\n",
      " - 0s - loss: 5.1346e-06\n",
      "Epoch 61/100\n",
      " - 0s - loss: 6.3310e-06\n",
      "Epoch 62/100\n",
      " - 0s - loss: 5.6654e-06\n",
      "Epoch 63/100\n",
      " - 0s - loss: 5.4690e-06\n",
      "Epoch 64/100\n",
      " - 0s - loss: 5.6337e-06\n",
      "Epoch 65/100\n",
      " - 0s - loss: 5.4324e-06\n",
      "Epoch 66/100\n",
      " - 0s - loss: 5.4412e-06\n",
      "Epoch 67/100\n",
      " - 0s - loss: 4.7611e-06\n",
      "Epoch 68/100\n",
      " - 0s - loss: 5.5379e-06\n",
      "Epoch 69/100\n",
      " - 0s - loss: 5.5707e-06\n",
      "Epoch 70/100\n",
      " - 0s - loss: 5.0060e-06\n",
      "Epoch 71/100\n",
      " - 0s - loss: 5.0537e-06\n",
      "Epoch 72/100\n",
      " - 0s - loss: 5.4402e-06\n",
      "Epoch 73/100\n",
      " - 0s - loss: 6.2507e-06\n",
      "Epoch 74/100\n",
      " - 0s - loss: 5.5623e-06\n",
      "Epoch 75/100\n",
      " - 0s - loss: 5.7352e-06\n",
      "Epoch 76/100\n",
      " - 0s - loss: 5.0256e-06\n",
      "Epoch 77/100\n",
      " - 0s - loss: 5.1737e-06\n",
      "Epoch 78/100\n",
      " - 0s - loss: 4.8522e-06\n",
      "Epoch 79/100\n",
      " - 0s - loss: 4.1468e-06\n",
      "Epoch 80/100\n",
      " - 0s - loss: 6.0706e-06\n",
      "Epoch 81/100\n",
      " - 0s - loss: 5.7072e-06\n",
      "Epoch 82/100\n",
      " - 0s - loss: 6.7139e-06\n",
      "Epoch 83/100\n",
      " - 0s - loss: 6.5559e-06\n",
      "Epoch 84/100\n",
      " - 0s - loss: 4.8751e-06\n",
      "Epoch 85/100\n",
      " - 0s - loss: 4.7990e-06\n",
      "Epoch 86/100\n",
      " - 0s - loss: 4.7425e-06\n",
      "Epoch 87/100\n",
      " - 0s - loss: 5.8301e-06\n",
      "Epoch 88/100\n",
      " - 0s - loss: 5.7659e-06\n",
      "Epoch 89/100\n",
      " - 0s - loss: 7.5063e-06\n",
      "Epoch 90/100\n",
      " - 0s - loss: 5.2497e-06\n",
      "Epoch 91/100\n",
      " - 0s - loss: 1.0532e-05\n",
      "Epoch 92/100\n",
      " - 0s - loss: 4.6649e-06\n",
      "Epoch 93/100\n",
      " - 0s - loss: 5.3182e-06\n",
      "Epoch 94/100\n",
      " - 0s - loss: 4.4063e-06\n",
      "Epoch 95/100\n",
      " - 0s - loss: 5.0831e-06\n",
      "Epoch 96/100\n",
      " - 0s - loss: 5.4265e-06\n",
      "Epoch 97/100\n",
      " - 0s - loss: 5.1048e-06\n",
      "Epoch 98/100\n",
      " - 0s - loss: 4.1624e-06\n",
      "Epoch 99/100\n",
      " - 0s - loss: 4.7874e-06\n",
      "Epoch 100/100\n",
      " - 0s - loss: 5.9544e-06\n",
      "train score is 2797.6304571059886\n",
      "test score is 87091.04464543426\n"
     ]
    }
   ],
   "source": [
    "#build lstm\n",
    "model = Sequential()\n",
    "model.add(LSTM(4, input_shape=(1, look_back)))\n",
    "model.add(Dense(1))# output = activation(dot(input,kernel)+bias) (link)\n",
    "model.compile(loss = 'mean_squared_error', optimizer = 'adam')\n",
    "model.fit(trainX, trainY, epochs = 100, batch_size = 1, verbose = 2)#verbose 2 display for each epoch\n",
    "trainPredict = model.predict(trainX)\n",
    "testPredict = model.predict(testX)\n",
    "\n",
    "#reverse to original dataset form\n",
    "trainPredict = scaler.inverse_transform(trainPredict)\n",
    "trainY = scaler.inverse_transform([trainY])\n",
    "testPredict = scaler.inverse_transform(testPredict)\n",
    "testY = scaler.inverse_transform([testY])\n",
    "\n",
    "trainScore = math.sqrt(mean_squared_error(trainY[0],trainPredict[:,0]))\n",
    "print('train score is',trainScore)\n",
    "testScore = math.sqrt(mean_squared_error(testY[0],testPredict[:,0]))\n",
    "print('test score is',testScore)\n",
    "\n",
    "\n"
   ]
  },
  {
   "cell_type": "code",
   "execution_count": 11,
   "metadata": {},
   "outputs": [
    {
     "data": {
      "text/plain": [
       "[<matplotlib.lines.Line2D at 0x12defbe48>]"
      ]
     },
     "execution_count": 11,
     "metadata": {},
     "output_type": "execute_result"
    },
    {
     "data": {
      "image/png": "[encoded data removed]",
      "text/plain": [
       "<Figure size 432x288 with 1 Axes>"
      ]
     },
     "metadata": {
      "needs_background": "light"
     },
     "output_type": "display_data"
    }
   ],
   "source": [
    "trainplot = numpy.empty_like(dataset)\n",
    "trainplot[:,:] = numpy.nan#initalize it as not_a_number\n",
    "trainplot[look_back:len(trainPredict)+look_back,:] = trainPredict\n",
    "\n",
    "testplot = numpy.empty_like(dataset)\n",
    "testplot[:,:] = numpy.nan\n",
    "testplot[len(trainPredict)+(look_back*2)+1:len(dataset)-1,:] = testPredict\n",
    "\n",
    "\n",
    "plt.plot(scaler.inverse_transform(dataset),color = 'blue')\n",
    "plt.plot(testplot,color = 'black')\n",
    "\n",
    "\n",
    "\n"
   ]
  },
  {
   "cell_type": "code",
   "execution_count": null,
   "metadata": {},
   "outputs": [],
   "source": []
  },
  {
   "cell_type": "code",
   "execution_count": null,
   "metadata": {},
   "outputs": [],
   "source": []
  }
 ],
 "metadata": {
  "kernelspec": {
   "display_name": "Python 3",
   "language": "python",
   "name": "python3"
  },
  "language_info": {
   "codemirror_mode": {
    "name": "ipython",
    "version": 3
   },
   "file_extension": ".py",
   "mimetype": "text/x-python",
   "name": "python",
   "nbconvert_exporter": "python",
   "pygments_lexer": "ipython3",
   "version": "3.6.8"
  }
 },
 "nbformat": 4,
 "nbformat_minor": 4
}
